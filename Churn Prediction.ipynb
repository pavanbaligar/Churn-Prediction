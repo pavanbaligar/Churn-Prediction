{
 "cells": [
  {
   "cell_type": "code",
   "execution_count": null,
   "metadata": {},
   "outputs": [],
   "source": [
    "# Import necessary packages\n",
    "import pandas as pd\n",
    "import numpy as np\n",
    "from sklearn.model_selection import train_test_split\n",
    "from sklearn.ensemble import RandomForestClassifier\n",
    "from sklearn.metrics import roc_auc_score\n",
    "\n",
    "# Load the datasets\n",
    "train_df = pd.read_csv(\"/home/jovyan/work/train.csv\")\n",
    "test_df = pd.read_csv(\"/home/jovyan/work/test.csv\")\n",
    "\n",
    "# Fill missing values\n",
    "train_df.fillna(0, inplace=True)\n",
    "test_df.fillna(0, inplace=True)\n",
    "\n",
    "# Identify categorical columns (automatically)\n",
    "categorical_columns = train_df.select_dtypes(include=['object']).columns.tolist()\n",
    "\n",
    "# Exclude the 'CustomerID' and 'Churn' columns from one-hot encoding\n",
    "categorical_columns = [col for col in categorical_columns if col not in ['CustomerID', 'Churn']]\n",
    "\n",
    "# Convert categorical features to numeric using one-hot encoding\n",
    "train_df = pd.get_dummies(train_df, columns=categorical_columns, drop_first=True)\n",
    "test_df = pd.get_dummies(test_df, columns=categorical_columns, drop_first=True)\n",
    "\n",
    "# Align columns between train and test datasets \n",
    "X = train_df.drop(['CustomerID', 'Churn'], axis=1)  # Features without target column\n",
    "y = train_df['Churn']\n",
    "\n",
    "# Align test dataset to match the train dataset\n",
    "X_test = test_df.drop(['CustomerID'], axis=1)\n",
    "X_test = X_test.reindex(columns=X.columns, fill_value=0)\n",
    "\n",
    "# Split the training data into training and validation sets\n",
    "X_train, X_val, y_train, y_val = train_test_split(X, y, test_size=0.2, random_state=42)\n",
    "\n",
    "# Train a Random Forest model\n",
    "rf_model = RandomForestClassifier(n_estimators=100, random_state=42)\n",
    "rf_model.fit(X_train, y_train)\n",
    "\n",
    "# Validate the model on the validation set\n",
    "y_val_pred = rf_model.predict_proba(X_val)[:, 1]  # Get the probability scores for the validation set\n",
    "roc_auc = roc_auc_score(y_val, y_val_pred)\n",
    "print(\"Validation ROC AUC Score:\", roc_auc)\n",
    "\n",
    "# Make predictions on the test set\n",
    "predicted_probability = rf_model.predict_proba(X_test)[:, 1]\n",
    "\n",
    "# Create the submission dataframe\n",
    "prediction_df = pd.DataFrame({\n",
    "    'CustomerID': pd.read_csv(\"/home/jovyan/work/test.csv\")['CustomerID'], \n",
    "    'predicted_probability': predicted_probability\n",
    "})\n",
    "\n",
    "# Save the submission file\n",
    "prediction_df.to_csv(\"/home/jovyan/work/prediction_submission.csv\", index=False)\n",
    "\n",
    
    "print(prediction_df.shape)\n",
    "print(prediction_df.head())\n",
    "\n",
   
    "assert prediction_df.shape[0] == 104480, 'The dataframe prediction_df should have 104480 rows.'\n",
    "assert prediction_df.shape[1] == 2, 'The dataframe prediction_df should have 2 columns.'\n",
    "assert 'CustomerID' in prediction_df.columns, 'The first column name should be CustomerID.'\n",
    "assert 'predicted_probability' in prediction_df.columns, 'The second column name should be predicted_probability.'\n"
   ]
  },
  {
   "cell_type": "code",
   "execution_count": null,
   "metadata": {},
   "outputs": [],
   "source": []
  }
 ],
 "metadata": {
  "kernelspec": {
   "display_name": "Python 3",
   "language": "python",
   "name": "python3"
  },
  "language_info": {
   "codemirror_mode": {
    "name": "ipython",
    "version": 3
   },
   "file_extension": ".py",
   "mimetype": "text/x-python",
   "name": "python",
   "nbconvert_exporter": "python",
   "pygments_lexer": "ipython3",
   "version": "3.7.6"
  }
 },
 "nbformat": 4,
 "nbformat_minor": 4
}
